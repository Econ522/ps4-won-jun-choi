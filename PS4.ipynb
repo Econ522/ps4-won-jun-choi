{
 "cells": [
  {
   "cell_type": "markdown",
   "id": "9803c92c-fec5-42b0-95dc-04f4147b16c2",
   "metadata": {},
   "source": [
    "# Problem Set 4"
   ]
  },
  {
   "cell_type": "code",
   "execution_count": 2,
   "id": "3f16aa82-d962-45ed-8dd3-4a37c51b9830",
   "metadata": {},
   "outputs": [],
   "source": [
    "import sys\n",
    "import numpy as np\n",
    "import pandas as pd\n",
    "import statsmodels.api as sm"
   ]
  },
  {
   "cell_type": "markdown",
   "id": "aff25f34-87db-4e82-991f-285541111b56",
   "metadata": {},
   "source": [
    "## Question 2"
   ]
  },
  {
   "cell_type": "markdown",
   "id": "27aa8c39-0c90-4db3-ab56-62c754be4930",
   "metadata": {},
   "source": [
    "In this exercise, we numerically study the behaviors of the wild and the pairs bootstrap by considering the following model:\n",
    "\\begin{align}\\label{Q4}\\tag{1}\n",
    "Y_i=Z_{1i} + Z_{2i} + Z_{3i} + \\varrho_0 Z_{1i} Z_{2i} + (1+\\lambda_0 Z_{1i})\\epsilon_i~,\n",
    "\\end{align}\n",
    "for $i=1,\\ldots, n$. The sample $\\{Y_i,Z_{1i},Z_{2i},Z_{3i}\\}_{i=1}^n$ is generated as follows."
   ]
  },
  {
   "cell_type": "markdown",
   "id": "fdc5c8af-e7ad-48f7-80bc-61c3ba182d82",
   "metadata": {},
   "source": [
    "(1) Generate $V_i,Z_{2i}$ and $Z_{3i}$ from the standard normal distribution with equal correlation $0.2$, and then set\n",
    "    \\begin{align}\n",
    "    Z_{1i} = \\frac{\\exp(V_i)-E[\\exp(V_i)]}{\\sqrt{\\mathrm{Var}(\\exp(V_i))}}~,\n",
    "    \\end{align}\n",
    "    where $E[\\exp(V_i)]=\\exp(0.5)$ and $\\sqrt{\\mathrm{Var}(\\exp(V_i))}=2.16$ (approximately)."
   ]
  },
  {
   "cell_type": "code",
   "execution_count": 3,
   "id": "1ded50d4-9db0-4a6e-a141-2dad0c59c0a4",
   "metadata": {},
   "outputs": [],
   "source": [
    "# n = 200\n",
    "# corr = 0.2\n",
    "\n",
    "# V, Z2, Z3 = np.random.multivariate_normal([0,0,0],\n",
    "#                                           [[1,   corr, corr],\n",
    "#                                            [corr,   1, corr],\n",
    "#                                            [corr,corr,   1]],\n",
    "#                                           n).T\n",
    "# Z1 = (np.exp(V) - np.mean(np.exp(V)))/np.std(np.exp(V))"
   ]
  },
  {
   "cell_type": "markdown",
   "id": "fd5ca55a-8015-4963-9f94-44e7e287963b",
   "metadata": {},
   "source": [
    "(2) Independently, $\\epsilon_i$ is generated from a mixture of a $N(-1/9,1)$ variable with probability $0.9$ and a $N(1,4)$ variable with probability $0.1$. When coding, you may first draw a sample $\\eta_i$ from a Bernoulli distribution with success probability $0.9$, and then you draw $\\epsilon_i$ from $N(-1/9,1)$ if $\\eta_i=1$ and otherwise draw $\\epsilon_i$ from $N(1,4)$. There may be a Python package for implementing this in a compact fashion, but, if not, I would just set $\\epsilon_i=\\eta_i W_{1i} + (1-\\eta_i)W_{2i}$ for $W_{1i}\\sim N(-1/9,1)$ and independently $W_{2i}\\sim N(1,4)$."
   ]
  },
  {
   "cell_type": "code",
   "execution_count": 4,
   "id": "560d2459-fd91-49a9-8141-5d9dbe904ff7",
   "metadata": {},
   "outputs": [],
   "source": [
    "# W1 = np.random.normal(-1/9, 1, n)\n",
    "# W2 = np.random.normal(1,4**0.5,n)\n",
    "# eta = (np.random.uniform(size=n)<0.9)*1\n",
    "# epsilon = eta*W1 + (1-eta)*W2"
   ]
  },
  {
   "cell_type": "markdown",
   "id": "03a878a2-447c-483f-bbc4-745e79990d98",
   "metadata": {},
   "source": [
    "(3) Generate $Y_i$ according to (1) for each pair $(\\varrho_0,\\lambda_0)$ to be specified."
   ]
  },
  {
   "cell_type": "code",
   "execution_count": 5,
   "id": "5b406d93-194d-4d10-b823-0823e88279b3",
   "metadata": {},
   "outputs": [],
   "source": [
    "# varrho = 1\n",
    "# lam = 1\n",
    "# Y = Z1 + Z2 + Z3 + varrho*Z1*Z2 + (1+lam*Z1)*epsilon\n",
    "\n",
    "def my_DGP(varrho,lam, size, corr=0.2):\n",
    "    n = size\n",
    "    V, Z2, Z3 = np.random.multivariate_normal([0,0,0],\n",
    "                                          [[1,   corr, corr],\n",
    "                                           [corr,   1, corr],\n",
    "                                           [corr,corr,   1]],\n",
    "                                          n).T\n",
    "    Z1 = (np.exp(V) - np.exp(0.5))/2.16  # for faster computation\n",
    "    W1 = np.random.normal(-1/9, 1, n)\n",
    "    W2 = np.random.normal(1,4**0.5,n)\n",
    "    eta = (np.random.uniform(size=n)<0.9)*1\n",
    "    epsilon = eta*W1 + (1-eta)*W2    \n",
    "    Y = Z1 + Z2 + Z3 + varrho*Z1*Z2 + (1+lam*Z1)*epsilon\n",
    "    sample = pd.DataFrame({'Y':Y, 'Z1':Z1, 'Z2':Z2, 'Z3':Z3})\n",
    "    return sample\n",
    "\n",
    "sample = my_DGP(varrho=1, lam=1, size=200)"
   ]
  },
  {
   "cell_type": "markdown",
   "id": "e121974f-87f6-4674-8d26-22d15a89d148",
   "metadata": {},
   "source": [
    "Given $\\{Y_i,Z_{1i},Z_{2i},Z_{3i}\\}_{i=1}^n$, we then consider the following regression:\n",
    "  \\begin{align}\n",
    "  Y_i=\\alpha_0+\\beta_1Z_{1i} + \\beta_2 Z_{2i} + \\beta_3 Z_{3i} + U_i~.\n",
    "  \\end{align}\n",
    "Note that if $\\varrho_0=0$, then $E[U_i|Z_{1i},Z_{2i},Z_{3i}]=0$ (the model is correctly specified), and if $\\varrho_0\\neq 0$, then $E[U_i|Z_{1i},Z_{2i},Z_{3i}]\\neq 0$ so the model is misspecified (but one still has $E[U_i(1,Z_{1i},Z_{2i},Z_{3i})]=0$). The model exhibits conditional heteroskedasticity if $\\lambda_0\\neq 0$. In what follows, set $\\lambda_0=1$ and $n=200$."
   ]
  },
  {
   "cell_type": "markdown",
   "id": "1f4207c0-6584-4617-b30d-56c5ee0a36b0",
   "metadata": {},
   "source": [
    " You should manually generate the bootstrap samples and compute the bootstrap statistics, as described on p.51 of the lecture notes.\n",
    "\n",
    "(a) Let $\\varrho_0=0$. Compute the empirical rejection rates of the two-sided $t$-test for $\\mathrm H_0: \\beta_1=1$ at the significance level $\\alpha=5\\%$, based on the standard normal approximation, the pairs bootstrap and the wild bootstrap using Radamacher weights. Use $5000$ Monte Carlo replications and $200$ bootstrap repetitions. The closer the empirical rejection rates are to $\\alpha$ (the nominal rate), the better the test performs. See the pdf of the problem set for a sketch of the coding structure."
   ]
  },
  {
   "cell_type": "code",
   "execution_count": 18,
   "id": "b0fe25dd-29fd-42bf-b598-a9f799580a9f",
   "metadata": {},
   "outputs": [
    {
     "name": "stdout",
     "output_type": "stream",
     "text": [
      " 5000/5000       0.182\n",
      "0.066\n",
      "0.0522\n"
     ]
    }
   ],
   "source": [
    "lam = 1\n",
    "n = 200\n",
    "\n",
    "varrho = 0\n",
    "\n",
    "MC = 5000\n",
    "rejectN, rejectP, rejectW = np.empty(MC), np.empty(MC), np.empty(MC)\n",
    "for r in range(MC):\n",
    "    sys.stdout.write('\\r {}/{}       '.format(r+1,MC))\n",
    "    sample = my_DGP(varrho=varrho, lam=lam, size=n)\n",
    "    x0 = sample[['Z1','Z2','Z3']]\n",
    "    y0 = sample['Y']\n",
    "    ols0 = sm.OLS(y0,sm.add_constant(x0)).fit(cov_type='HC0')\n",
    "    tv0 = (ols0.params[1]-1-0.41*varrho)/(ols0.HC0_se[1])\n",
    "\n",
    "    # normal approaximation\n",
    "    cv_normal = 1.96\n",
    "\n",
    "    # bootstrap cv(pairs, wild)\n",
    "    B = 200\n",
    "    BootP, BootW = np.zeros(B), np.zeros(B)\n",
    "    for b in range(B):\n",
    "        # paired bootstrap\n",
    "        sample_paired = sample.sample(n, replace=True, ignore_index=True)\n",
    "        x = sample_paired[['Z1','Z2','Z3']]\n",
    "        y = sample_paired['Y']\n",
    "        ols = sm.OLS(y,sm.add_constant(x)).fit(cov_type='HC0')\n",
    "        BootP[b] = np.abs( (ols.params[1]-ols0.params[1])/ols.HC0_se[1] )\n",
    "        \n",
    "        # wild bootstrap sample\n",
    "        W = -1 + 2*(np.random.uniform(size=n)>0.5)  # Rademacher\n",
    "        y = y0 - (1+0.41*varrho)*x0['Z1']  # restricted regression\n",
    "        x = sample[['Z2','Z3']]\n",
    "        ols_restricted = sm.OLS(y,x).fit(cov_type='HC0')\n",
    "        u_wild = ols_restricted.resid * W\n",
    "        y_wild = ols_restricted.predict() + (1+0.41*varrho)*x0['Z1'] + u_wild\n",
    "        x = x0\n",
    "        y = y_wild\n",
    "        ols = sm.OLS(y,sm.add_constant(x)).fit(cov_type='HC0')\n",
    "        BootW[b] = np.abs( (ols.params[1]-1-0.41*varrho)/ols.HC0_se[1] )\n",
    "    cv_paired = np.sort(BootP)[int(0.95*B)]\n",
    "    cv_wild = np.sort(BootW)[int(0.95*B)]\n",
    "    \n",
    "    # testing\n",
    "    rejectN[r] = 1*(np.abs(tv0)>cv_normal)\n",
    "    rejectP[r] = 1*(np.abs(tv0)>cv_paired)\n",
    "    rejectW[r] = 1*(np.abs(tv0)>cv_wild)\n",
    "\n",
    "print(rejectN.mean())\n",
    "print(rejectP.mean())\n",
    "print(rejectW.mean())"
   ]
  },
  {
   "cell_type": "markdown",
   "id": "a440b433-cd1a-4ab3-b13b-e06acaffb567",
   "metadata": {},
   "source": [
    "(b) Repeat part (a) by setting $\\varrho_0\\in\\{-0.5,0.5\\}$ (so the model is misspecified), but now consider the two-sided $t$ test for $\\mathrm H_0: \\beta_1=1+\\varrho_0 b$ for $b=0.41$ (note that $1+\\varrho_0 b$ is the slope parameter for $Z_{1i}$ in the best linear prediction of $Y_i$ given $1,Z_{1i},Z_{2i}$, and $Z_{3i}$)."
   ]
  },
  {
   "cell_type": "code",
   "execution_count": 19,
   "id": "10ae46ec-5764-495e-8e2b-98cccfa4272e",
   "metadata": {},
   "outputs": [
    {
     "name": "stdout",
     "output_type": "stream",
     "text": [
      " 5000/5000       0.183\n",
      "0.0636\n",
      "0.0488\n"
     ]
    }
   ],
   "source": [
    "lam = 1\n",
    "n = 200\n",
    "\n",
    "varrho = -0.5\n",
    "\n",
    "MC = 5000\n",
    "rejectN, rejectP, rejectW = np.empty(MC), np.empty(MC), np.empty(MC)\n",
    "for r in range(MC):\n",
    "    sys.stdout.write('\\r {}/{}       '.format(r+1,MC))\n",
    "    sample = my_DGP(varrho=varrho, lam=lam, size=n)\n",
    "    x0 = sample[['Z1','Z2','Z3']]\n",
    "    y0 = sample['Y']\n",
    "    ols0 = sm.OLS(y0,sm.add_constant(x0)).fit(cov_type='HC0')\n",
    "    tv0 = (ols0.params[1]-1-0.41*varrho)/(ols0.HC0_se[1])\n",
    "\n",
    "    # normal approaximation\n",
    "    cv_normal = 1.96\n",
    "\n",
    "    # bootstrap cv(pairs, wild)\n",
    "    B = 200\n",
    "    BootP, BootW = np.zeros(B), np.zeros(B)\n",
    "    for b in range(B):\n",
    "        # paired bootstrap\n",
    "        sample_paired = sample.sample(n, replace=True, ignore_index=True)\n",
    "        x = sample_paired[['Z1','Z2','Z3']]\n",
    "        y = sample_paired['Y']\n",
    "        ols = sm.OLS(y,sm.add_constant(x)).fit(cov_type='HC0')\n",
    "        BootP[b] = np.abs( (ols.params[1]-ols0.params[1])/ols.HC0_se[1] )\n",
    "        \n",
    "        # wild bootstrap sample\n",
    "        W = -1 + 2*(np.random.uniform(size=n)>0.5)  # Rademacher\n",
    "        y = y0 - (1+0.41*varrho)*x0['Z1']  # restricted regression\n",
    "        x = sample[['Z2','Z3']]\n",
    "        ols_restricted = sm.OLS(y,x).fit(cov_type='HC0')\n",
    "        u_wild = ols_restricted.resid * W\n",
    "        y_wild = ols_restricted.predict() + (1+0.41*varrho)*x0['Z1'] + u_wild\n",
    "        x = x0\n",
    "        y = y_wild\n",
    "        ols = sm.OLS(y,sm.add_constant(x)).fit(cov_type='HC0')\n",
    "        BootW[b] = np.abs( (ols.params[1]-1-0.41*varrho)/ols.HC0_se[1] )\n",
    "    cv_paired = np.sort(BootP)[int(0.95*B)]\n",
    "    cv_wild = np.sort(BootW)[int(0.95*B)]\n",
    "    \n",
    "    # testing\n",
    "    rejectN[r] = 1*(np.abs(tv0)>cv_normal)\n",
    "    rejectP[r] = 1*(np.abs(tv0)>cv_paired)\n",
    "    rejectW[r] = 1*(np.abs(tv0)>cv_wild)\n",
    "\n",
    "print(rejectN.mean())\n",
    "print(rejectP.mean())\n",
    "print(rejectW.mean())"
   ]
  },
  {
   "cell_type": "code",
   "execution_count": 20,
   "id": "d2878e19-c957-4921-b712-214bfee598c8",
   "metadata": {},
   "outputs": [
    {
     "name": "stdout",
     "output_type": "stream",
     "text": [
      " 5000/5000       0.1852\n",
      "0.0668\n",
      "0.06\n"
     ]
    }
   ],
   "source": [
    "lam = 1\n",
    "n = 200\n",
    "\n",
    "varrho = 0.5\n",
    "\n",
    "MC = 5000\n",
    "rejectN, rejectP, rejectW = np.empty(MC), np.empty(MC), np.empty(MC)\n",
    "for r in range(MC):\n",
    "    sys.stdout.write('\\r {}/{}       '.format(r+1,MC))\n",
    "    sample = my_DGP(varrho=varrho, lam=lam, size=n)\n",
    "    x0 = sample[['Z1','Z2','Z3']]\n",
    "    y0 = sample['Y']\n",
    "    ols0 = sm.OLS(y0,sm.add_constant(x0)).fit(cov_type='HC0')\n",
    "    tv0 = (ols0.params[1]-1-0.41*varrho)/(ols0.HC0_se[1])\n",
    "\n",
    "    # normal approaximation\n",
    "    cv_normal = 1.96\n",
    "\n",
    "    # bootstrap cv(pairs, wild)\n",
    "    B = 200\n",
    "    BootP, BootW = np.zeros(B), np.zeros(B)\n",
    "    for b in range(B):\n",
    "        # paired bootstrap\n",
    "        sample_paired = sample.sample(n, replace=True, ignore_index=True)\n",
    "        x = sample_paired[['Z1','Z2','Z3']]\n",
    "        y = sample_paired['Y']\n",
    "        ols = sm.OLS(y,sm.add_constant(x)).fit(cov_type='HC0')\n",
    "        BootP[b] = np.abs( (ols.params[1]-ols0.params[1])/ols.HC0_se[1] )\n",
    "        \n",
    "        # wild bootstrap sample\n",
    "        W = -1 + 2*(np.random.uniform(size=n)>0.5)  # Rademacher\n",
    "        y = y0 - (1+0.41*varrho)*x0['Z1']  # restricted regression\n",
    "        x = sample[['Z2','Z3']]\n",
    "        ols_restricted = sm.OLS(y,x).fit(cov_type='HC0')\n",
    "        u_wild = ols_restricted.resid * W\n",
    "        y_wild = ols_restricted.predict() + (1+0.41*varrho)*x0['Z1'] + u_wild\n",
    "        x = x0\n",
    "        y = y_wild\n",
    "        ols = sm.OLS(y,sm.add_constant(x)).fit(cov_type='HC0')\n",
    "        BootW[b] = np.abs( (ols.params[1]-1-0.41*varrho)/ols.HC0_se[1] )\n",
    "    cv_paired = np.sort(BootP)[int(0.95*B)]\n",
    "    cv_wild = np.sort(BootW)[int(0.95*B)]\n",
    "    \n",
    "    # testing\n",
    "    rejectN[r] = 1*(np.abs(tv0)>cv_normal)\n",
    "    rejectP[r] = 1*(np.abs(tv0)>cv_paired)\n",
    "    rejectW[r] = 1*(np.abs(tv0)>cv_wild)\n",
    "\n",
    "print(rejectN.mean())\n",
    "print(rejectP.mean())\n",
    "print(rejectW.mean())"
   ]
  }
 ],
 "metadata": {
  "environment": {
   "kernel": "python3",
   "name": "common-cpu.m94",
   "type": "gcloud",
   "uri": "gcr.io/deeplearning-platform-release/base-cpu:m94"
  },
  "kernelspec": {
   "display_name": "Python 3",
   "language": "python",
   "name": "python3"
  },
  "language_info": {
   "codemirror_mode": {
    "name": "ipython",
    "version": 3
   },
   "file_extension": ".py",
   "mimetype": "text/x-python",
   "name": "python",
   "nbconvert_exporter": "python",
   "pygments_lexer": "ipython3",
   "version": "3.8.8"
  }
 },
 "nbformat": 4,
 "nbformat_minor": 5
}
